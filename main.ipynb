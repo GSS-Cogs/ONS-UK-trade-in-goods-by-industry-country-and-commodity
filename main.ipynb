{
 "cells": [
  {
   "cell_type": "markdown",
   "metadata": {},
   "source": [
    "#UK trade in goods by industry, country and commodity\n",
    "\n",
    "This data is split into two distributions, one for imports and the other for exports:\n",
    "https://www.ons.gov.uk/economy/nationalaccounts/balanceofpayments/datasets/uktradeingoodsbyindustrycountryandcommodityimports\n",
    "\n",
    "https://www.ons.gov.uk/economy/nationalaccounts/balanceofpayments/datasets/uktradeingoodsbyindustrycountryandcommodityexports"
   ]
  },
  {
   "cell_type": "code",
   "execution_count": 1,
   "metadata": {},
   "outputs": [],
   "source": [
    "from gssutils import *"
   ]
  },
  {
   "cell_type": "code",
   "execution_count": 2,
   "metadata": {},
   "outputs": [
    {
     "name": "stderr",
     "output_type": "stream",
     "text": [
      "WARNING:Unexpected \"next release\" field: ('Unknown string format:', 'To be announced')\n"
     ]
    },
    {
     "name": "stdout",
     "output_type": "stream",
     "text": [
      "\n"
     ]
    },
    {
     "data": {
      "text/plain": [
       "'ONS Partner Geography'"
      ]
     },
     "metadata": {},
     "output_type": "display_data"
    },
    {
     "data": {
      "text/plain": [
       "Index(['AD Andorra', 'AE United Arab Emirates', 'AF Afghanistan',\n",
       "       'AG Antigua & Barbuda', 'AI Anguilla', 'AL Albania', 'AM Armenia',\n",
       "       'AO Angola', 'AQ Antarctica', 'AR Argentina',\n",
       "       ...\n",
       "       'VN Vietnam', 'VU Vanuatu', 'W1  Worldwide', 'WF Wallis & Futuna',\n",
       "       'WS Samoa', 'XK Kosovo', 'YE Yemen', 'ZA South Africa', 'ZM Zambia',\n",
       "       'ZW Zimbabwe'],\n",
       "      dtype='object', length=235)"
      ]
     },
     "metadata": {},
     "output_type": "display_data"
    },
    {
     "data": {
      "text/plain": [
       "'CORD SITC'"
      ]
     },
     "metadata": {},
     "output_type": "display_data"
    },
    {
     "data": {
      "text/plain": [
       "Index(['0 Food & live animals', '1 Beverages & tobacco', '2 Crude materials',\n",
       "       '3 Fuels', '4 Animal & vegetable oils & fats', '5 Chemicals',\n",
       "       '6 Material manufactures', '7 Machinery & transport equipment',\n",
       "       '8 Miscellaneous manufactures', '9 Unspecified goods', 'T Total'],\n",
       "      dtype='object')"
      ]
     },
     "metadata": {},
     "output_type": "display_data"
    },
    {
     "data": {
      "text/plain": [
       "'SIC 2007'"
      ]
     },
     "metadata": {},
     "output_type": "display_data"
    },
    {
     "data": {
      "text/plain": [
       "Index(['01 Crop and animal production, hunting and related service activities',\n",
       "       '02 Forestry and logging', '03 Fishing and aquaculture',\n",
       "       '05 Mining of coal and lignite',\n",
       "       '06 Extraction of crude petroleum and natural gas',\n",
       "       '07 Mining of metal ores', '08 Other mining and quarrying',\n",
       "       '09 Mining support service activities',\n",
       "       '10 Manufacture of food products', '11 Manufacture of beverages',\n",
       "       '12 Manufacture of tobacco products', '13 Manufacture of textiles',\n",
       "       '14 Manufacture of wearing apparel',\n",
       "       '15 Manufacture of leather and related products',\n",
       "       '16 Manufacture of wood and of products of wood and cork, except furniture; manufacture of articles of straw and plaiting materials',\n",
       "       '17 Manufacture of paper and paper products',\n",
       "       '18 Printing and reproduction of recorded media',\n",
       "       '19 Manufacture of coke and refined petroleum products',\n",
       "       '20 Manufacture of chemicals and chemical products',\n",
       "       '21 Manufacture of basic pharmaceutical products and pharmaceutical preparations',\n",
       "       '22 Manufacture of rubber and plastic products',\n",
       "       '23 Manufacture of other non-metallic mineral products',\n",
       "       '24 Manufacture of basic metals',\n",
       "       '25 Manufacture of fabricated metal products, except machinery and equipment',\n",
       "       '26 Manufacture of computer, electronic and optical products',\n",
       "       '27 Manufacture of electrical equipment',\n",
       "       '28 Manufacture of machinery and equipment n.e.c.',\n",
       "       '29 Manufacture of motor vehicles, trailers and semi-trailers',\n",
       "       '30 Manufacture of other transport equipment',\n",
       "       '31 Manufacture of furniture', '32 Other manufacturing',\n",
       "       '33 Repair and installation of machinery and equipment',\n",
       "       '35 Electricity, gas, steam and air conditioning supply',\n",
       "       '36 Water collection, treatment and supply', '37 Sewerage',\n",
       "       '38 Waste collection, treatment and disposal activities; materials recovery',\n",
       "       '39 Remediation activities and other waste management services.',\n",
       "       '41 Construction of buildings', '42 Civil engineering',\n",
       "       '43 Specialised construction activities',\n",
       "       '45 Wholesale and retail trade and repair of motor vehicles and motorcycles',\n",
       "       '46 Wholesale trade, except of motor vehicles and motorcycles',\n",
       "       '47 Retail trade, except of motor vehicles and motorcycles',\n",
       "       '49 Land transport and transport via pipelines', '50 Water transport',\n",
       "       '51 Air transport',\n",
       "       '52 Warehousing and support activities for transportation',\n",
       "       '53 Postal and courier activities', '55 Accommodation',\n",
       "       '56 Food and beverage service activities', '58 Publishing activities',\n",
       "       '59 Motion picture, video and television programme production, sound recording and music publishing activities',\n",
       "       '60 Programming and broadcasting activities', '61 Telecommunications',\n",
       "       '62 Computer programming, consultancy and related activities',\n",
       "       '63 Information service activities',\n",
       "       '65 Insurance, reinsurance and pension funding, except compulsory social security',\n",
       "       '66 Activities auxiliary to financial services and insurance activities',\n",
       "       '68 Real estate activities', '69 Legal and accounting activities',\n",
       "       '70 Activities of head offices; management consultancy activities',\n",
       "       '71 Architectural and engineering activities; technical testing and analysis',\n",
       "       '72 Scientific research and development',\n",
       "       '73 Advertising and market research',\n",
       "       '74 Other professional, scientific and technical activities',\n",
       "       '75 Veterinary activities', '77 Rental and leasing activities',\n",
       "       '78 Employment activities',\n",
       "       '79 Travel agency, tour operator and other reservation service and related activities',\n",
       "       '80 Security and investigation activities',\n",
       "       '81 Services to buildings and landscape activities',\n",
       "       '82 Office administrative, office support and other business support activities',\n",
       "       '84 Public administration and defence; compulsory social security',\n",
       "       '85 Education', '86 Human health activities',\n",
       "       '87 Residential care activities',\n",
       "       '88 Social work activities without accommodation',\n",
       "       '90 Creative, arts and entertainment activities',\n",
       "       '91 Libraries, archives, museums and other cultural activities',\n",
       "       '92 Gambling and betting activities',\n",
       "       '93 Sports activities and amusement and recreation activities',\n",
       "       '94 Activities of membership organisations',\n",
       "       '95 Repair of computers and personal and household goods',\n",
       "       '96 Other personal service activities',\n",
       "       '98 Undifferentiated goods- and services-producing activities of private households for own use',\n",
       "       '99 Activities of extraterritorial organisations and bodies'],\n",
       "      dtype='object')"
      ]
     },
     "metadata": {},
     "output_type": "display_data"
    },
    {
     "data": {
      "text/plain": [
       "'Measure Type'"
      ]
     },
     "metadata": {},
     "output_type": "display_data"
    },
    {
     "data": {
      "text/plain": [
       "Index(['GBP Total'], dtype='object')"
      ]
     },
     "metadata": {},
     "output_type": "display_data"
    },
    {
     "data": {
      "text/plain": [
       "'Unit'"
      ]
     },
     "metadata": {},
     "output_type": "display_data"
    },
    {
     "data": {
      "text/plain": [
       "Index(['gbp-million'], dtype='object')"
      ]
     },
     "metadata": {},
     "output_type": "display_data"
    },
    {
     "data": {
      "text/plain": [
       "'Flow'"
      ]
     },
     "metadata": {},
     "output_type": "display_data"
    },
    {
     "data": {
      "text/plain": [
       "Index(['exports'], dtype='object')"
      ]
     },
     "metadata": {},
     "output_type": "display_data"
    },
    {
     "data": {
      "text/plain": [
       "Index(['0', '1', '2', '3', '4', '5', '6', '7', '8', '9', 'T'], dtype='object')"
      ]
     },
     "metadata": {},
     "output_type": "display_data"
    },
    {
     "data": {
      "text/plain": [
       "Index(['AD', 'AE', 'AF', 'AG', 'AI', 'AL', 'AM', 'AO', 'AQ', 'AR',\n",
       "       ...\n",
       "       'VN', 'VU', 'W1', 'WF', 'WS', 'XK', 'YE', 'ZA', 'ZM', 'ZW'],\n",
       "      dtype='object', length=235)"
      ]
     },
     "metadata": {},
     "output_type": "display_data"
    },
    {
     "data": {
      "text/plain": [
       "Index(['01', '02', '03', '05', '06', '07', '08', '09', '10', '11', '12', '13',\n",
       "       '14', '15', '16', '17', '18', '19', '20', '21', '22', '23', '24', '25',\n",
       "       '26', '27', '28', '29', '30', '31', '32', '33', '35', '36', '37', '38',\n",
       "       '39', '41', '42', '43', '45', '46', '47', '49', '50', '51', '52', '53',\n",
       "       '55', '56', '58', '59', '60', '61', '62', '63', '65', '66', '68', '69',\n",
       "       '70', '71', '72', '73', '74', '75', '77', '78', '79', '80', '81', '82',\n",
       "       '84', '85', '86', '87', '88', '90', '91', '92', '93', '94', '95', '96',\n",
       "       '98', '99'],\n",
       "      dtype='object')"
      ]
     },
     "metadata": {},
     "output_type": "display_data"
    },
    {
     "name": "stderr",
     "output_type": "stream",
     "text": [
      "WARNING:Unexpected \"next release\" field: ('Unknown string format:', 'To be announced')\n"
     ]
    },
    {
     "name": "stdout",
     "output_type": "stream",
     "text": [
      "\n"
     ]
    },
    {
     "data": {
      "text/plain": [
       "'ONS Partner Geography'"
      ]
     },
     "metadata": {},
     "output_type": "display_data"
    },
    {
     "data": {
      "text/plain": [
       "Index(['AD Andorra', 'AE United Arab Emirates', 'AF Afghanistan',\n",
       "       'AG Antigua & Barbuda', 'AI Anguilla', 'AL Albania', 'AM Armenia',\n",
       "       'AO Angola', 'AQ Antarctica', 'AR Argentina',\n",
       "       ...\n",
       "       'VN Vietnam', 'VU Vanuatu', 'W1  Worldwide', 'WF Wallis & Futuna',\n",
       "       'WS Samoa', 'XK Kosovo', 'YE Yemen', 'ZA South Africa', 'ZM Zambia',\n",
       "       'ZW Zimbabwe'],\n",
       "      dtype='object', length=235)"
      ]
     },
     "metadata": {},
     "output_type": "display_data"
    },
    {
     "data": {
      "text/plain": [
       "'CORD SITC'"
      ]
     },
     "metadata": {},
     "output_type": "display_data"
    },
    {
     "data": {
      "text/plain": [
       "Index(['0 Food & live animals', '1 Beverages & tobacco', '2 Crude materials',\n",
       "       '3 Fuels', '4 Animal & vegetable oils & fats', '5 Chemicals',\n",
       "       '6 Material manufactures', '7 Machinery & transport equipment',\n",
       "       '8 Miscellaneous manufactures', '9 Unspecified goods', 'T Total'],\n",
       "      dtype='object')"
      ]
     },
     "metadata": {},
     "output_type": "display_data"
    },
    {
     "data": {
      "text/plain": [
       "'SIC 2007'"
      ]
     },
     "metadata": {},
     "output_type": "display_data"
    },
    {
     "data": {
      "text/plain": [
       "Index(['01 Crop and animal production, hunting and related service activities',\n",
       "       '02 Forestry and logging', '03 Fishing and aquaculture',\n",
       "       '05 Mining of coal and lignite',\n",
       "       '06 Extraction of crude petroleum and natural gas',\n",
       "       '07 Mining of metal ores', '08 Other mining and quarrying',\n",
       "       '09 Mining support service activities',\n",
       "       '10 Manufacture of food products', '11 Manufacture of beverages',\n",
       "       '12 Manufacture of tobacco products', '13 Manufacture of textiles',\n",
       "       '14 Manufacture of wearing apparel',\n",
       "       '15 Manufacture of leather and related products',\n",
       "       '16 Manufacture of wood and of products of wood and cork, except furniture; manufacture of articles of straw and plaiting materials',\n",
       "       '17 Manufacture of paper and paper products',\n",
       "       '18 Printing and reproduction of recorded media',\n",
       "       '19 Manufacture of coke and refined petroleum products',\n",
       "       '20 Manufacture of chemicals and chemical products',\n",
       "       '21 Manufacture of basic pharmaceutical products and pharmaceutical preparations',\n",
       "       '22 Manufacture of rubber and plastic products',\n",
       "       '23 Manufacture of other non-metallic mineral products',\n",
       "       '24 Manufacture of basic metals',\n",
       "       '25 Manufacture of fabricated metal products, except machinery and equipment',\n",
       "       '26 Manufacture of computer, electronic and optical products',\n",
       "       '27 Manufacture of electrical equipment',\n",
       "       '28 Manufacture of machinery and equipment n.e.c.',\n",
       "       '29 Manufacture of motor vehicles, trailers and semi-trailers',\n",
       "       '30 Manufacture of other transport equipment',\n",
       "       '31 Manufacture of furniture', '32 Other manufacturing',\n",
       "       '33 Repair and installation of machinery and equipment',\n",
       "       '35 Electricity, gas, steam and air conditioning supply',\n",
       "       '36 Water collection, treatment and supply', '37 Sewerage',\n",
       "       '38 Waste collection, treatment and disposal activities; materials recovery',\n",
       "       '39 Remediation activities and other waste management services.',\n",
       "       '41 Construction of buildings', '42 Civil engineering',\n",
       "       '43 Specialised construction activities',\n",
       "       '45 Wholesale and retail trade and repair of motor vehicles and motorcycles',\n",
       "       '46 Wholesale trade, except of motor vehicles and motorcycles',\n",
       "       '47 Retail trade, except of motor vehicles and motorcycles',\n",
       "       '49 Land transport and transport via pipelines', '50 Water transport',\n",
       "       '51 Air transport',\n",
       "       '52 Warehousing and support activities for transportation',\n",
       "       '53 Postal and courier activities', '55 Accommodation',\n",
       "       '56 Food and beverage service activities', '58 Publishing activities',\n",
       "       '59 Motion picture, video and television programme production, sound recording and music publishing activities',\n",
       "       '60 Programming and broadcasting activities', '61 Telecommunications',\n",
       "       '62 Computer programming, consultancy and related activities',\n",
       "       '63 Information service activities',\n",
       "       '65 Insurance, reinsurance and pension funding, except compulsory social security',\n",
       "       '66 Activities auxiliary to financial services and insurance activities',\n",
       "       '68 Real estate activities', '69 Legal and accounting activities',\n",
       "       '70 Activities of head offices; management consultancy activities',\n",
       "       '71 Architectural and engineering activities; technical testing and analysis',\n",
       "       '72 Scientific research and development',\n",
       "       '73 Advertising and market research',\n",
       "       '74 Other professional, scientific and technical activities',\n",
       "       '75 Veterinary activities', '77 Rental and leasing activities',\n",
       "       '78 Employment activities',\n",
       "       '79 Travel agency, tour operator and other reservation service and related activities',\n",
       "       '80 Security and investigation activities',\n",
       "       '81 Services to buildings and landscape activities',\n",
       "       '82 Office administrative, office support and other business support activities',\n",
       "       '84 Public administration and defence; compulsory social security',\n",
       "       '85 Education', '86 Human health activities',\n",
       "       '87 Residential care activities',\n",
       "       '88 Social work activities without accommodation',\n",
       "       '90 Creative, arts and entertainment activities',\n",
       "       '91 Libraries, archives, museums and other cultural activities',\n",
       "       '92 Gambling and betting activities',\n",
       "       '93 Sports activities and amusement and recreation activities',\n",
       "       '94 Activities of membership organisations',\n",
       "       '95 Repair of computers and personal and household goods',\n",
       "       '96 Other personal service activities',\n",
       "       '97 Activities of households as employers of domestic personnel',\n",
       "       '98 Undifferentiated goods- and services-producing activities of private households for own use',\n",
       "       '99 Activities of extraterritorial organisations and bodies'],\n",
       "      dtype='object')"
      ]
     },
     "metadata": {},
     "output_type": "display_data"
    },
    {
     "data": {
      "text/plain": [
       "'Measure Type'"
      ]
     },
     "metadata": {},
     "output_type": "display_data"
    },
    {
     "data": {
      "text/plain": [
       "Index(['GBP Total'], dtype='object')"
      ]
     },
     "metadata": {},
     "output_type": "display_data"
    },
    {
     "data": {
      "text/plain": [
       "'Unit'"
      ]
     },
     "metadata": {},
     "output_type": "display_data"
    },
    {
     "data": {
      "text/plain": [
       "Index(['gbp-million'], dtype='object')"
      ]
     },
     "metadata": {},
     "output_type": "display_data"
    },
    {
     "data": {
      "text/plain": [
       "'Flow'"
      ]
     },
     "metadata": {},
     "output_type": "display_data"
    },
    {
     "data": {
      "text/plain": [
       "Index(['imports'], dtype='object')"
      ]
     },
     "metadata": {},
     "output_type": "display_data"
    },
    {
     "data": {
      "text/plain": [
       "Index(['0', '1', '2', '3', '4', '5', '6', '7', '8', '9', 'T'], dtype='object')"
      ]
     },
     "metadata": {},
     "output_type": "display_data"
    },
    {
     "data": {
      "text/plain": [
       "Index(['AD', 'AE', 'AF', 'AG', 'AI', 'AL', 'AM', 'AO', 'AQ', 'AR',\n",
       "       ...\n",
       "       'VN', 'VU', 'W1', 'WF', 'WS', 'XK', 'YE', 'ZA', 'ZM', 'ZW'],\n",
       "      dtype='object', length=235)"
      ]
     },
     "metadata": {},
     "output_type": "display_data"
    },
    {
     "data": {
      "text/plain": [
       "Index(['01', '02', '03', '05', '06', '07', '08', '09', '10', '11', '12', '13',\n",
       "       '14', '15', '16', '17', '18', '19', '20', '21', '22', '23', '24', '25',\n",
       "       '26', '27', '28', '29', '30', '31', '32', '33', '35', '36', '37', '38',\n",
       "       '39', '41', '42', '43', '45', '46', '47', '49', '50', '51', '52', '53',\n",
       "       '55', '56', '58', '59', '60', '61', '62', '63', '65', '66', '68', '69',\n",
       "       '70', '71', '72', '73', '74', '75', '77', '78', '79', '80', '81', '82',\n",
       "       '84', '85', '86', '87', '88', '90', '91', '92', '93', '94', '95', '96',\n",
       "       '97', '98', '99'],\n",
       "      dtype='object')"
      ]
     },
     "metadata": {},
     "output_type": "display_data"
    }
   ],
   "source": [
    "def run_script(s):\n",
    "    %run \"$s\"\n",
    "    return table\n",
    "\n",
    "observations = pd.concat(\n",
    "    run_script(s) for s in ['exports.ipynb', 'imports.ipynb']\n",
    ").drop_duplicates()"
   ]
  },
  {
   "cell_type": "code",
   "execution_count": 3,
   "metadata": {},
   "outputs": [],
   "source": [
    "from pathlib import Path\n",
    "import numpy as np\n",
    "out = Path('out')\n",
    "out.mkdir(exist_ok=True)\n",
    "observations.drop_duplicates().to_csv(out / 'observations.csv', index = False)"
   ]
  },
  {
   "cell_type": "code",
   "execution_count": 4,
   "metadata": {},
   "outputs": [
    {
     "data": {
      "text/html": [
       "<h3>PMDDataset</h3>\n",
       "<dl><dt>rdfs:label</dt><dd>&quot;UK trade in goods by industry, country and commodity, imports and exports&quot;@en</dd>\n",
       "<dt>rdfs:comment</dt><dd>&quot;This new experimental dataset providing a breakdown of UK trade in goods by industry, country and commodity on a balance of payments basis. Data are subject to disclosure control, which means some data have been suppressed to protect confidentiality of individual traders.&quot;@en</dd>\n",
       "<dt>dct:title</dt><dd>&quot;UK trade in goods by industry, country and commodity, imports and exports&quot;@en</dd>\n",
       "<dt>dct:publisher</dt><dd><a href=https://www.gov.uk/government/organisations/office-for-national-statistics>&lt;https://www.gov.uk/government/organisations/office-for-national-statistics&gt;</a></dd>\n",
       "<dt>dct:issued</dt><dd>&quot;2018-10-24&quot;^^&lt;http://www.w3.org/2001/XMLSchema#date&gt;</dd>\n",
       "<dt>dct:modified</dt><dd>&quot;2019-04-05T14:08:24.873464&quot;^^&lt;http://www.w3.org/2001/XMLSchema#dateTime&gt;</dd>\n",
       "<dt>dcat:contactPoint</dt><dd><a href=mailto:trade@ons.gov.uk>&lt;mailto:trade@ons.gov.uk&gt;</a></dd>\n",
       "<dt>dcat:landingPage</dt><dd><a href=https://www.ons.gov.uk/economy/nationalaccounts/balanceofpayments/datasets/uktradeingoodsbyindustrycountryandcommodityimports>&lt;https://www.ons.gov.uk/economy/nationalaccounts/balanceofpayments/datasets/uktradeingoodsbyindustrycountryandcommodityimports&gt;</a></dd>\n",
       "<dt>dcat:theme</dt><dd><a href=http://gss-data.org.uk/def/concept/statistics-authority-themes/business-industry-trade-energy>&lt;http://gss-data.org.uk/def/concept/statistics-authority-themes/business-industry-trade-energy&gt;</a></dd>\n",
       "<dt>gdp:family</dt><dd><a href=http://gss-data.org.uk/def/gdp#trade>&lt;http://gss-data.org.uk/def/gdp#trade&gt;</a></dd>\n",
       "<dt>void:sparqlEndpoint</dt><dd><a href=/sparql>&lt;/sparql&gt;</a></dd>\n",
       "<dt>pmd:graph</dt><dd><a href=graph/www/ons/gov/uk/economy/nationalaccounts/balanceofpayments/datasets/uktradeingoodsbyindustrycountryandcommodityimports>&lt;graph/www/ons/gov/uk/economy/nationalaccounts/balanceofpayments/datasets/uktradeingoodsbyindustrycountryandcommodityimports&gt;</a></dd>\n",
       "<dt>pmd:contactEmail</dt><dd><a href=mailto:trade@ons.gov.uk>&lt;mailto:trade@ons.gov.uk&gt;</a></dd>\n",
       "<dt>dct:license</dt><dd><a href=http://www.nationalarchives.gov.uk/doc/open-government-licence/version/3/>&lt;http://www.nationalarchives.gov.uk/doc/open-government-licence/version/3/&gt;</a></dd>\n",
       "<dt>dct:creator</dt><dd><a href=https://www.gov.uk/government/organisations/office-for-national-statistics>&lt;https://www.gov.uk/government/organisations/office-for-national-statistics&gt;</a></dd>\n",
       "</dl>"
      ],
      "text/plain": [
       "<gssutils.metadata.PMDDataset at 0x7ff904483ef0>"
      ]
     },
     "execution_count": 4,
     "metadata": {},
     "output_type": "execute_result"
    }
   ],
   "source": [
    "from gssutils.metadata import THEME\n",
    "scraper.dataset.family = 'Trade'\n",
    "scraper.dataset.theme = THEME['business-industry-trade-energy']\n",
    "scraper.dataset.title = scraper.dataset.title.replace('imports', 'imports and exports')\n",
    "scraper.dataset.comment = scraper.dataset.comment.replace('import', 'import and export')\n",
    "\n",
    "scraper.dataset"
   ]
  },
  {
   "cell_type": "code",
   "execution_count": 5,
   "metadata": {},
   "outputs": [],
   "source": [
    "with open(out / 'dataset.trig', 'wb') as metadata:\n",
    "     metadata.write(scraper.generate_trig())"
   ]
  }
 ],
 "metadata": {
  "kernelspec": {
   "display_name": "Python 3",
   "language": "python",
   "name": "python3"
  },
  "language_info": {
   "codemirror_mode": {
    "name": "ipython",
    "version": 3
   },
   "file_extension": ".py",
   "mimetype": "text/x-python",
   "name": "python",
   "nbconvert_exporter": "python",
   "pygments_lexer": "ipython3",
   "version": "3.7.2"
  }
 },
 "nbformat": 4,
 "nbformat_minor": 2
}
