{
 "cells": [
  {
   "cell_type": "markdown",
   "metadata": {},
   "source": [
    "UK trade in goods by industry, country and commodity, imports"
   ]
  },
  {
   "cell_type": "code",
   "execution_count": 1,
   "metadata": {},
   "outputs": [
    {
     "name": "stderr",
     "output_type": "stream",
     "text": [
      "WARNING:Unexpected \"next release\" field: Unknown string format\n"
     ]
    },
    {
     "data": {
      "text/markdown": [
       "## UK trade in goods by industry, country and commodity, imports\n",
       "\n",
       "Experimental dataset providing a breakdown of UK trade in goods by industry, country and commodity on a balance of payments basis. Data are subject to disclosure control, which means some data have been suppressed to protect confidentiality of individual traders.\n",
       "\n",
       "### Distributions\n",
       "\n",
       "1. UK trade in goods by industry, country and commodity, imports ([MS Excel Spreadsheet](https://www.ons.gov.uk/file?uri=/economy/nationalaccounts/balanceofpayments/datasets/uktradeingoodsbyindustrycountryandcommodityimports/2008to2017/tigindimpubl3.xlsx))\n"
      ],
      "text/plain": [
       "<gssutils.scrape.Scraper at 0x19d26d409b0>"
      ]
     },
     "execution_count": 1,
     "metadata": {},
     "output_type": "execute_result"
    }
   ],
   "source": [
    "from gssutils import *\n",
    "\n",
    "scraper = Scraper('https://www.ons.gov.uk/economy/nationalaccounts/balanceofpayments/datasets/uktradeingoodsbyindustrycountryandcommodityimports')\n",
    "scraper"
   ]
  },
  {
   "cell_type": "code",
   "execution_count": 2,
   "metadata": {},
   "outputs": [
    {
     "data": {
      "text/plain": [
       "dict_keys(['Contents', 'tig_ind_im_publ'])"
      ]
     },
     "execution_count": 2,
     "metadata": {},
     "output_type": "execute_result"
    }
   ],
   "source": [
    "tabs = {tab.name: tab for tab in scraper.distribution().as_databaker()}\n",
    "tabs.keys()"
   ]
  },
  {
   "cell_type": "code",
   "execution_count": 3,
   "metadata": {
    "collapsed": true
   },
   "outputs": [],
   "source": [
    "tabs = scraper.distribution().as_databaker()"
   ]
  },
  {
   "cell_type": "code",
   "execution_count": 4,
   "metadata": {
    "collapsed": true
   },
   "outputs": [],
   "source": [
    "tab = next(t for t in tabs if t.name =='tig_ind_im_publ')"
   ]
  },
  {
   "cell_type": "code",
   "execution_count": 5,
   "metadata": {
    "collapsed": true
   },
   "outputs": [],
   "source": [
    "country = tab.filter(contains_string('country')).fill(DOWN).is_not_blank().is_not_whitespace()"
   ]
  },
  {
   "cell_type": "code",
   "execution_count": 6,
   "metadata": {
    "collapsed": true
   },
   "outputs": [],
   "source": [
    "industry = tab.filter(contains_string('industry')).fill(DOWN).is_not_blank().is_not_whitespace()"
   ]
  },
  {
   "cell_type": "code",
   "execution_count": 7,
   "metadata": {
    "collapsed": true
   },
   "outputs": [],
   "source": [
    "commodity = tab.filter(contains_string('commodity')).fill(DOWN).is_not_blank().is_not_whitespace()"
   ]
  },
  {
   "cell_type": "code",
   "execution_count": 8,
   "metadata": {
    "collapsed": true
   },
   "outputs": [],
   "source": [
    "year = tab.excel_ref('A1').fill(RIGHT).is_not_blank().is_not_whitespace().is_number()"
   ]
  },
  {
   "cell_type": "code",
   "execution_count": 9,
   "metadata": {
    "collapsed": true
   },
   "outputs": [],
   "source": [
    "observations = year.fill(DOWN).is_not_blank().is_not_whitespace()"
   ]
  },
  {
   "cell_type": "code",
   "execution_count": 10,
   "metadata": {},
   "outputs": [
    {
     "name": "stdout",
     "output_type": "stream",
     "text": [
      "\n"
     ]
    }
   ],
   "source": [
    "Dimensions = [\n",
    "            HDim(year,'Period',DIRECTLY,ABOVE),\n",
    "            HDim(country,'ONS Partner Geography',DIRECTLY,LEFT),\n",
    "            HDim(commodity,'CORD SITC',DIRECTLY,LEFT),\n",
    "            HDim(industry,'SIC 2007',DIRECTLY,LEFT),\n",
    "            HDimConst('Measure Type', 'GBP Total'),\n",
    "            HDimConst('Unit', 'gbp-million'),\n",
    "            HDimConst('Flow', 'imports')\n",
    "            ]\n",
    "c1 = ConversionSegment(observations, Dimensions, processTIMEUNIT=True)\n",
    "table = c1.topandas()"
   ]
  },
  {
   "cell_type": "code",
   "execution_count": 11,
   "metadata": {
    "collapsed": true
   },
   "outputs": [],
   "source": [
    "# import numpy as np\n",
    "# table['OBS'].replace('', np.nan, inplace=True)\n",
    "# table.dropna(subset=['OBS'], inplace=True)\n",
    "# if 'DATAMARKER' in table.columns:\n",
    "#     table.drop(columns=['DATAMARKER'], inplace=True)\n",
    "# table.rename(columns={'OBS': 'Value'}, inplace=True)\n",
    "# table['Value'] = table['Value'].astype(int)\n",
    "# table['Value'] = table['Value'].map(lambda x:'' if x == '...' else x )"
   ]
  },
  {
   "cell_type": "code",
   "execution_count": 12,
   "metadata": {
    "collapsed": true
   },
   "outputs": [],
   "source": [
    "table['DATAMARKER'] = table['DATAMARKER'].map(lambda x:'suppressed data' if x == '..' else x )"
   ]
  },
  {
   "cell_type": "code",
   "execution_count": 13,
   "metadata": {
    "collapsed": true
   },
   "outputs": [],
   "source": [
    "import numpy as np\n",
    "table['OBS'].replace('', np.nan, inplace=True)\n",
    "table.rename(columns={'OBS': 'Value','DATAMARKER' : 'Marker'}, inplace=True)\n",
    "table['Value'] = pd.to_numeric(table['Value'], errors='coerce')"
   ]
  },
  {
   "cell_type": "code",
   "execution_count": 14,
   "metadata": {},
   "outputs": [
    {
     "data": {
      "text/plain": [
       "'Marker'"
      ]
     },
     "metadata": {},
     "output_type": "display_data"
    },
    {
     "data": {
      "text/plain": [
       "Index(['suppressed data'], dtype='object')"
      ]
     },
     "metadata": {},
     "output_type": "display_data"
    },
    {
     "data": {
      "text/plain": [
       "'ONS Partner Geography'"
      ]
     },
     "metadata": {},
     "output_type": "display_data"
    },
    {
     "data": {
      "text/plain": [
       "Index(['AD Andorra', 'AE United Arab Emirates', 'AF Afghanistan',\n",
       "       'AG Antigua & Barbuda', 'AI Anguilla', 'AL Albania', 'AM Armenia',\n",
       "       'AO Angola', 'AQ Antarctica', 'AR Argentina',\n",
       "       ...\n",
       "       'VN Vietnam', 'VU Vanuatu', 'W1 Worldwide', 'WF Wallis & Futuna',\n",
       "       'WS Samoa', 'XK Kosovo', 'YE Yemen', 'ZA South Africa', 'ZM Zambia',\n",
       "       'ZW Zimbabwe'],\n",
       "      dtype='object', length=235)"
      ]
     },
     "metadata": {},
     "output_type": "display_data"
    },
    {
     "data": {
      "text/plain": [
       "'CORD SITC'"
      ]
     },
     "metadata": {},
     "output_type": "display_data"
    },
    {
     "data": {
      "text/plain": [
       "Index(['00 Live animals', '01 Meat & meat preparations',\n",
       "       '02 Dairy products & eggs', '03 Fish & shellfish', '04 Cereals',\n",
       "       '05 Vegetables & fruit', '06 Sugar', '07 Coffee, tea, cocoa etc',\n",
       "       '08 Animal feeding stuffs', '09 Miscellaneous foods', '11 Beverages',\n",
       "       '12 Tobacco', '21 Hides, skins & furskins',\n",
       "       '22 Oil-seeds & oleaginous fruits', '23 Crude rubber', '24 Wood & cork',\n",
       "       '25 Pulp & waste paper', '26 Textile fibres',\n",
       "       '27 Crude minerals & fertilisers', '28 Metal ores & scrap',\n",
       "       '29 Other crude animal & vegetable materials',\n",
       "       '32 Coal, coke & briquettes', '33 Oil', '34 Gas', '35 Electricity',\n",
       "       '41 Animal oils & fats', '42 Vegetable oils & fats',\n",
       "       '43 Processed oils & fats', '51 Organic chemicals',\n",
       "       '52 Inorganic chemicals', '53 Dyeing, tanning & colouring materials',\n",
       "       '54 Medicinal & pharmaceutical products',\n",
       "       '55 Toilet & cleansing preparations', '56 Processed fertilisers',\n",
       "       '57 Plastics in primary forms', '58 Plastics in non-primary forms',\n",
       "       '59 Other chemicals', '61 Leather manufactures',\n",
       "       '62 Rubber manufactures', '63 Wood & cork manufactures',\n",
       "       '64 Paper & paperboard', '65 Textile fabrics',\n",
       "       '66 Mineral manufactures', '67 Iron & steel', '68 Non-ferrous metals',\n",
       "       '69 Miscellaneous metal manufactures', '78 Road vehicles',\n",
       "       '79 Other transport equipment', '7E Electrical machinery',\n",
       "       '7M Mechanical machinery', '84 Clothing', '85 Footwear',\n",
       "       '87plus88 Scientific & photographic', '8O Other manufactures',\n",
       "       '9 Unspecified goods', 'T Total'],\n",
       "      dtype='object')"
      ]
     },
     "metadata": {},
     "output_type": "display_data"
    },
    {
     "data": {
      "text/plain": [
       "'SIC 2007'"
      ]
     },
     "metadata": {},
     "output_type": "display_data"
    },
    {
     "data": {
      "text/plain": [
       "Index(['01 Crop and animal production, hunting and related service activities',\n",
       "       '02 Forestry and logging', '03 Fishing and aquaculture',\n",
       "       '05 Mining of coal and lignite',\n",
       "       '06 Extraction of crude petroleum and natural gas',\n",
       "       '07 Mining of metal ores', '08 Other mining and quarrying',\n",
       "       '09 Mining support service activities',\n",
       "       '10 Manufacture of food products', '11 Manufacture of beverages',\n",
       "       '12 Manufacture of tobacco products', '13 Manufacture of textiles',\n",
       "       '14 Manufacture of wearing apparel',\n",
       "       '15 Manufacture of leather and related products',\n",
       "       '16 Manufacture of wood and of products of wood and cork, except furniture; manufacture of articles of straw and plaiting materials',\n",
       "       '17 Manufacture of paper and paper products',\n",
       "       '18 Printing and reproduction of recorded media',\n",
       "       '19 Manufacture of coke and refined petroleum products',\n",
       "       '20 Manufacture of chemicals and chemical products',\n",
       "       '21 Manufacture of basic pharmaceutical products and pharmaceutical preparations',\n",
       "       '22 Manufacture of rubber and plastic products',\n",
       "       '23 Manufacture of other non-metallic mineral products',\n",
       "       '24 Manufacture of basic metals',\n",
       "       '25 Manufacture of fabricated metal products, except machinery and equipment',\n",
       "       '26 Manufacture of computer, electronic and optical products',\n",
       "       '27 Manufacture of electrical equipment',\n",
       "       '28 Manufacture of machinery and equipment n.e.c.',\n",
       "       '29 Manufacture of motor vehicles, trailers and semi-trailers',\n",
       "       '30 Manufacture of other transport equipment',\n",
       "       '31 Manufacture of furniture', '32 Other manufacturing',\n",
       "       '33 Repair and installation of machinery and equipment',\n",
       "       '35 Electricity, gas, steam and air conditioning supply',\n",
       "       '36 Water collection, treatment and supply', '37 Sewerage',\n",
       "       '38 Waste collection, treatment and disposal activities; materials recovery',\n",
       "       '39 Remediation activities and other waste management services.',\n",
       "       '41 Construction of buildings', '42 Civil engineering',\n",
       "       '43 Specialised construction activities',\n",
       "       '45 Wholesale and retail trade and repair of motor vehicles and motorcycles',\n",
       "       '46 Wholesale trade, except of motor vehicles and motorcycles',\n",
       "       '47 Retail trade, except of motor vehicles and motorcycles',\n",
       "       '49 Land transport and transport via pipelines', '50 Water transport',\n",
       "       '51 Air transport',\n",
       "       '52 Warehousing and support activities for transportation',\n",
       "       '53 Postal and courier activities', '55 Accommodation',\n",
       "       '56 Food and beverage service activities', '58 Publishing activities',\n",
       "       '59 Motion picture, video and television programme production, sound recording and music publishing activities',\n",
       "       '60 Programming and broadcasting activities', '61 Telecommunications',\n",
       "       '62 Computer programming, consultancy and related activities',\n",
       "       '63 Information service activities',\n",
       "       '64 Financial service activities, except insurance and pension funding',\n",
       "       '65 Insurance, reinsurance and pension funding, except compulsory social security',\n",
       "       '66 Activities auxiliary to financial services and insurance activities',\n",
       "       '68 Real estate activities', '69 Legal and accounting activities',\n",
       "       '70 Activities of head offices; management consultancy activities',\n",
       "       '71 Architectural and engineering activities; technical testing and analysis',\n",
       "       '72 Scientific research and development',\n",
       "       '73 Advertising and market research',\n",
       "       '74 Other professional, scientific and technical activities',\n",
       "       '75 Veterinary activities', '77 Rental and leasing activities',\n",
       "       '78 Employment activities',\n",
       "       '79 Travel agency, tour operator and other reservation service and related activities',\n",
       "       '80 Security and investigation activities',\n",
       "       '81 Services to buildings and landscape activities',\n",
       "       '82 Office administrative, office support and other business support activities',\n",
       "       '84 Public administration and defence; compulsory social security',\n",
       "       '85 Education', '86 Human health activities',\n",
       "       '87 Residential care activities',\n",
       "       '88 Social work activities without accommodation',\n",
       "       '90 Creative, arts and entertainment activities',\n",
       "       '91 Libraries, archives, museums and other cultural activities',\n",
       "       '92 Gambling and betting activities',\n",
       "       '93 Sports activities and amusement and recreation activities',\n",
       "       '94 Activities of membership organisations',\n",
       "       '95 Repair of computers and personal and household goods',\n",
       "       '96 Other personal service activities',\n",
       "       '98 Undifferentiated goods- and services-producing activities of private households for own use',\n",
       "       '99 Activities of extraterritorial organisations and bodies'],\n",
       "      dtype='object')"
      ]
     },
     "metadata": {},
     "output_type": "display_data"
    },
    {
     "data": {
      "text/plain": [
       "'Measure Type'"
      ]
     },
     "metadata": {},
     "output_type": "display_data"
    },
    {
     "data": {
      "text/plain": [
       "Index(['GBP Total'], dtype='object')"
      ]
     },
     "metadata": {},
     "output_type": "display_data"
    },
    {
     "data": {
      "text/plain": [
       "'Unit'"
      ]
     },
     "metadata": {},
     "output_type": "display_data"
    },
    {
     "data": {
      "text/plain": [
       "Index(['gbp-million'], dtype='object')"
      ]
     },
     "metadata": {},
     "output_type": "display_data"
    },
    {
     "data": {
      "text/plain": [
       "'Flow'"
      ]
     },
     "metadata": {},
     "output_type": "display_data"
    },
    {
     "data": {
      "text/plain": [
       "Index(['imports'], dtype='object')"
      ]
     },
     "metadata": {},
     "output_type": "display_data"
    }
   ],
   "source": [
    "for col in table.columns:\n",
    "    if col not in ['Value', 'Period']:\n",
    "        table[col] = table[col].astype('category')\n",
    "        display(col)\n",
    "        display(table[col].cat.categories)"
   ]
  },
  {
   "cell_type": "code",
   "execution_count": 15,
   "metadata": {},
   "outputs": [
    {
     "data": {
      "text/plain": [
       "Index(['00', '01', '02', '03', '04', '05', '06', '07', '08', '09', '11', '12',\n",
       "       '21', '22', '23', '24', '25', '26', '27', '28', '29', '32', '33', '34',\n",
       "       '35', '41', '42', '43', '51', '52', '53', '54', '55', '56', '57', '58',\n",
       "       '59', '61', '62', '63', '64', '65', '66', '67', '68', '69', '78', '79',\n",
       "       '7E', '7M', '84', '85', '87', '8O', '9 ', 'T '],\n",
       "      dtype='object')"
      ]
     },
     "metadata": {},
     "output_type": "display_data"
    },
    {
     "data": {
      "text/plain": [
       "Index(['AD', 'AE', 'AF', 'AG', 'AI', 'AL', 'AM', 'AO', 'AQ', 'AR',\n",
       "       ...\n",
       "       'VN', 'VU', 'W1', 'WF', 'WS', 'XK', 'YE', 'ZA', 'ZM', 'ZW'],\n",
       "      dtype='object', length=235)"
      ]
     },
     "metadata": {},
     "output_type": "display_data"
    },
    {
     "data": {
      "text/plain": [
       "Index(['01', '02', '03', '05', '06', '07', '08', '09', '10', '11', '12', '13',\n",
       "       '14', '15', '16', '17', '18', '19', '20', '21', '22', '23', '24', '25',\n",
       "       '26', '27', '28', '29', '30', '31', '32', '33', '35', '36', '37', '38',\n",
       "       '39', '41', '42', '43', '45', '46', '47', '49', '50', '51', '52', '53',\n",
       "       '55', '56', '58', '59', '60', '61', '62', '63', '64', '65', '66', '68',\n",
       "       '69', '70', '71', '72', '73', '74', '75', '77', '78', '79', '80', '81',\n",
       "       '82', '84', '85', '86', '87', '88', '90', '91', '92', '93', '94', '95',\n",
       "       '96', '98', '99'],\n",
       "      dtype='object')"
      ]
     },
     "metadata": {},
     "output_type": "display_data"
    }
   ],
   "source": [
    "table['CORD SITC'].cat.categories = table['CORD SITC'].cat.categories.map(lambda x: x[:2])\n",
    "table['ONS Partner Geography'].cat.categories = table['ONS Partner Geography'].cat.categories.map(lambda x: x[:2])\n",
    "table['SIC 2007'].cat.categories = table['SIC 2007'].cat.categories.map(lambda x: x[:2])\n",
    "display(table['CORD SITC'].cat.categories)\n",
    "display(table['ONS Partner Geography'].cat.categories)\n",
    "display(table['SIC 2007'].cat.categories)"
   ]
  },
  {
   "cell_type": "code",
   "execution_count": 16,
   "metadata": {
    "collapsed": true
   },
   "outputs": [],
   "source": [
    "table['Period'] = 'year/' + table['Period'].astype(str).str[0:4]"
   ]
  },
  {
   "cell_type": "code",
   "execution_count": 17,
   "metadata": {
    "collapsed": true
   },
   "outputs": [],
   "source": [
    "table = table[['ONS Partner Geography', 'Period','Flow','CORD SITC', 'SIC 2007', 'Measure Type','Value','Unit', 'Marker']]"
   ]
  },
  {
   "cell_type": "code",
   "execution_count": null,
   "metadata": {
    "collapsed": true
   },
   "outputs": [],
   "source": []
  }
 ],
 "metadata": {
  "kernelspec": {
   "display_name": "Python 3",
   "language": "python",
   "name": "python3"
  },
  "language_info": {
   "codemirror_mode": {
    "name": "ipython",
    "version": 3
   },
   "file_extension": ".py",
   "mimetype": "text/x-python",
   "name": "python",
   "nbconvert_exporter": "python",
   "pygments_lexer": "ipython3",
   "version": "3.6.3"
  }
 },
 "nbformat": 4,
 "nbformat_minor": 2
}
